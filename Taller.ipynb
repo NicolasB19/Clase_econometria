{
  "nbformat": 4,
  "nbformat_minor": 0,
  "metadata": {
    "colab": {
      "provenance": [],
      "include_colab_link": true
    },
    "kernelspec": {
      "name": "python3",
      "display_name": "Python 3"
    },
    "language_info": {
      "name": "python"
    }
  },
  "cells": [
    {
      "cell_type": "markdown",
      "metadata": {
        "id": "view-in-github",
        "colab_type": "text"
      },
      "source": [
        "<a href=\"https://colab.research.google.com/github/NicolasB19/Clase_econometria/blob/main/Taller.ipynb\" target=\"_parent\"><img src=\"https://colab.research.google.com/assets/colab-badge.svg\" alt=\"Open In Colab\"/></a>"
      ]
    },
    {
      "cell_type": "markdown",
      "source": [
        "# Taller\n",
        "Nicolas Bocachica \n",
        "Andres Lozano\n",
        "Sebastian Montaña "
      ],
      "metadata": {
        "id": "O94_C_JrSFgg"
      }
    },
    {
      "cell_type": "markdown",
      "source": [
        "## a) Crea un programa que tome una lista de números como entrada y devuelva la suma de todos los números en la lista"
      ],
      "metadata": {
        "id": "vbC7AsKR1Hvn"
      }
    },
    {
      "cell_type": "code",
      "execution_count": null,
      "metadata": {
        "colab": {
          "base_uri": "https://localhost:8080/"
        },
        "id": "zamOgqpu0fqm",
        "outputId": "766e5689-9ca8-4b4a-bd02-bc5e0f02bef1"
      },
      "outputs": [
        {
          "output_type": "stream",
          "name": "stdout",
          "text": [
            "La suma de los números en la lista es: 68\n"
          ]
        }
      ],
      "source": [
        "numeros = [6, 10, 14, 18, 20]  \n",
        "\n",
        "suma = sum(numeros)\n",
        "\n",
        "print(\"La suma de los números en la lista es:\", suma)"
      ]
    },
    {
      "cell_type": "markdown",
      "source": [
        "##b) Escribe un programa que tome dos listas y devuelva una nueva lista que contenga todos los elementos que son comunes a ambas listas."
      ],
      "metadata": {
        "id": "HSDbvWCp1FqZ"
      }
    },
    {
      "cell_type": "code",
      "source": [
        "def encontrar_elementos_comunes(lista1, lista2):\n",
        "    elementos_comunes = []\n",
        "    \n",
        "    for elemento in lista1:\n",
        "        if elemento in lista2:\n",
        "            # elemento en ambas listas\n",
        "            elementos_comunes.append(elemento)\n",
        "    \n",
        "    # Devolver la lista de elementos comunes\n",
        "    return elementos_comunes"
      ],
      "metadata": {
        "id": "IRsd3LTd3Dps"
      },
      "execution_count": null,
      "outputs": []
    },
    {
      "cell_type": "code",
      "source": [
        "lista1 = [1, 2, 3, 4, 5]\n",
        "lista2 = [3, 4, 5, 6, 7]\n",
        "elementos_comunes = encontrar_elementos_comunes(lista1, lista2)\n",
        "print(elementos_comunes) # salida: [3, 4, 5]"
      ],
      "metadata": {
        "colab": {
          "base_uri": "https://localhost:8080/"
        },
        "id": "ova9DDNI1OnM",
        "outputId": "567b4d98-2a60-4111-de16-3f72526f0907"
      },
      "execution_count": null,
      "outputs": [
        {
          "output_type": "stream",
          "name": "stdout",
          "text": [
            "[3, 4, 5]\n"
          ]
        }
      ]
    },
    {
      "cell_type": "markdown",
      "source": [
        "## c) Crea un programa que tome una lista de cadenas como entrada y devuelva la longitud de la cadena más larga en la lista."
      ],
      "metadata": {
        "id": "XLoZObGh3ZRb"
      }
    },
    {
      "cell_type": "code",
      "source": [
        "def longitud_cadena_mas_larga(lista):\n",
        "    longitud_max = 0\n",
        "    for cadena in lista:\n",
        "        if len(cadena) > longitud_max:\n",
        "            longitud_max = len(cadena)\n",
        "    return longitud_max"
      ],
      "metadata": {
        "id": "4Ew3EYjy3udm"
      },
      "execution_count": null,
      "outputs": []
    },
    {
      "cell_type": "code",
      "source": [
        "mi_lista = [\"Hola\", \"Mundo\", \"Colaboracion\"]\n",
        "longitud_maxima = longitud_cadena_mas_larga(mi_lista)\n",
        "print(\"La longitud de la cadena más larga en la lista es:\", longitud_maxima)"
      ],
      "metadata": {
        "colab": {
          "base_uri": "https://localhost:8080/"
        },
        "id": "t_dXKqoV31nz",
        "outputId": "32306cd1-00e6-4169-e3e5-58154b299e48"
      },
      "execution_count": null,
      "outputs": [
        {
          "output_type": "stream",
          "name": "stdout",
          "text": [
            "La longitud de la cadena más larga en la lista es: 12\n"
          ]
        }
      ]
    },
    {
      "cell_type": "markdown",
      "source": [
        "## d) Escribe un programa que tome una lista de números como entrada y devuelva una nueva lista que contenga solo los números pares de la lista original."
      ],
      "metadata": {
        "id": "fIg2q3Nd4S9D"
      }
    },
    {
      "cell_type": "code",
      "source": [
        "def numeros_pares(lista):\n",
        "\n",
        "    lista_pares = []\n",
        "    for num in lista:\n",
        "        if num % 2 == 0:\n",
        "            lista_pares.append(num)\n",
        "    return lista_pares\n",
        "\n",
        "numeros = [1, 2, 3, 4, 5, 6, 7, 8, 9, 10]\n",
        "pares = numeros_pares(numeros)\n",
        "print(pares)  "
      ],
      "metadata": {
        "colab": {
          "base_uri": "https://localhost:8080/"
        },
        "id": "EnFRhRR74L1_",
        "outputId": "c9a7b541-8418-4c5c-b830-cd2d2e2d8b89"
      },
      "execution_count": null,
      "outputs": [
        {
          "output_type": "stream",
          "name": "stdout",
          "text": [
            "[2, 4, 6, 8, 10]\n"
          ]
        }
      ]
    },
    {
      "cell_type": "markdown",
      "source": [
        "## e) Crea un programa que tome una lista de cadenas como entrada y devuelva una nueva lista que contenga solo las cadenas que comienzan con la letra \"a\"."
      ],
      "metadata": {
        "id": "JOqfYd0e4wK0"
      }
    },
    {
      "cell_type": "code",
      "source": [
        "def palabras_con_a(lista):\n",
        "    nueva_lista = []\n",
        "    for palabra in lista:\n",
        "        if palabra.startswith('a'):\n",
        "            nueva_lista.append(palabra)\n",
        "    return nueva_lista"
      ],
      "metadata": {
        "id": "LesaB1CQ4hDE"
      },
      "execution_count": null,
      "outputs": []
    },
    {
      "cell_type": "markdown",
      "source": [
        "## f) Escribe un programa que tome un diccionario como entrada y devuelva el valor asociado con una clave dada."
      ],
      "metadata": {
        "id": "EysiKnQd5Fhj"
      }
    },
    {
      "cell_type": "code",
      "source": [
        "def obtener_valor(diccionario, clave):\n",
        "    if clave in diccionario:\n",
        "        return diccionario[clave]\n",
        "    else:\n",
        "        return None"
      ],
      "metadata": {
        "id": "ngQjvuUC4_4R"
      },
      "execution_count": null,
      "outputs": []
    },
    {
      "cell_type": "markdown",
      "source": [
        "\n",
        "## g) Crea un programa que tome una lista de diccionarios como entrada y devuelva una nueva lista que contenga solo los diccionarios que tienen una cierta clave."
      ],
      "metadata": {
        "id": "KkZlwde15jXg"
      }
    },
    {
      "cell_type": "code",
      "source": [
        "def filter_dict_list(dict_list, key):\n",
        "    return [d for d in dict_list if key in d]"
      ],
      "metadata": {
        "id": "fN981UtF5Xol"
      },
      "execution_count": null,
      "outputs": []
    },
    {
      "cell_type": "code",
      "source": [
        "dict_list = [{\"nombre\": \"Nicolas\", \"edad\": 30}, {\"nombre\": \"David\", \"email\": \"david@gmail.com\"}, {\"nombre\": \"Andrea\", \"email\": \"andrea@gmail.com\"}]\n",
        "filtered_dict_list = filter_dict_list(dict_list, \"email\")\n",
        "print(filtered_dict_list)"
      ],
      "metadata": {
        "colab": {
          "base_uri": "https://localhost:8080/"
        },
        "id": "2uB4vDJu54ze",
        "outputId": "908e1fd8-3315-4eba-dbad-3ff37f42ede8"
      },
      "execution_count": null,
      "outputs": [
        {
          "output_type": "stream",
          "name": "stdout",
          "text": [
            "[{'nombre': 'David', 'email': 'david@gmail.com'}, {'nombre': 'Andrea', 'email': 'andrea@gmail.com'}]\n"
          ]
        }
      ]
    },
    {
      "cell_type": "markdown",
      "source": [
        "## h) Escribe un programa que tome un diccionario como entrada y devuelva un nuevo diccionario con las claves y los valores intercambiados."
      ],
      "metadata": {
        "id": "jRGjGvkT6XMH"
      }
    },
    {
      "cell_type": "code",
      "source": [
        "def intercambiar(diccionario):\n",
        "    nuevo_diccionario = {}\n",
        "    for clave, valor in diccionario.items():\n",
        "        nuevo_diccionario[valor] = clave\n",
        "    return nuevo_diccionario"
      ],
      "metadata": {
        "id": "Jehw0_4Y6Ask"
      },
      "execution_count": null,
      "outputs": []
    },
    {
      "cell_type": "markdown",
      "source": [
        "## i) Crea un programa que tome dos diccionarios como entrada y devuelva un nuevo diccionario que contenga solo los pares clave-valor que son comunes a ambos diccionarios."
      ],
      "metadata": {
        "id": "KnTUU5lj6-Fk"
      }
    },
    {
      "cell_type": "code",
      "source": [
        "def common_items(dict1, dict2):\n",
        "\n",
        "    common = {}\n",
        "    for key in dict1:\n",
        "        if key in dict2 and dict1[key] == dict2[key]:\n",
        "            common[key] = dict1[key]\n",
        "    return common\n",
        "\n",
        "dict1 = {'a': 1, 'b': 2, 'c': 3}\n",
        "dict2 = {'b': 2, 'c': 4, 'd': 5}\n",
        "common_dict = common_items(dict1, dict2)\n",
        "print(common_dict)"
      ],
      "metadata": {
        "colab": {
          "base_uri": "https://localhost:8080/"
        },
        "id": "txPfaFgj6qSF",
        "outputId": "a796f166-49ec-4f30-a006-130d9c990db0"
      },
      "execution_count": null,
      "outputs": [
        {
          "output_type": "stream",
          "name": "stdout",
          "text": [
            "{'b': 2}\n"
          ]
        }
      ]
    },
    {
      "cell_type": "markdown",
      "source": [
        "##j) Escribe un programa que tome un diccionario como entrada y devuelva un nuevo diccionario con las claves ordenadas alfabéticamente."
      ],
      "metadata": {
        "id": "jRRv7tnL7aJs"
      }
    },
    {
      "cell_type": "code",
      "source": [
        "def sort_dict_keys(dict_input):\n",
        "    sorted_keys = sorted(dict_input.keys())\n",
        "\n",
        "    sorted_dict = {}\n",
        "\n",
        "    for key in sorted_keys:\n",
        "        sorted_dict[key] = dict_input[key]\n",
        "\n",
        "    return sorted_dict"
      ],
      "metadata": {
        "id": "-I6WDsve7WDR"
      },
      "execution_count": null,
      "outputs": []
    },
    {
      "cell_type": "code",
      "source": [
        "input_dict = {'b': 2, 'c': 3, 'a': 1}\n",
        "sorted_dict = sort_dict_keys(input_dict)\n",
        "print(sorted_dict)"
      ],
      "metadata": {
        "colab": {
          "base_uri": "https://localhost:8080/"
        },
        "id": "TNzzSki1MvXf",
        "outputId": "a2ca7439-4637-4468-9947-ee5e10a85d98"
      },
      "execution_count": null,
      "outputs": [
        {
          "output_type": "stream",
          "name": "stdout",
          "text": [
            "{'a': 1, 'b': 2, 'c': 3}\n"
          ]
        }
      ]
    },
    {
      "cell_type": "markdown",
      "source": [
        "## k) Escribe una función que tome dos números como entrada y devuelva su suma."
      ],
      "metadata": {
        "id": "_j52mbhANgLH"
      }
    },
    {
      "cell_type": "code",
      "source": [
        "def sum_numbers(a, b):\n",
        "    return a + b\n",
        "\n",
        "# Ejemplo de uso\n",
        "result = sum_numbers(3, 4)\n",
        "print(result)"
      ],
      "metadata": {
        "colab": {
          "base_uri": "https://localhost:8080/"
        },
        "id": "g7acdxswNXVS",
        "outputId": "55ae20e1-55b0-4b05-9bfb-3b230b493a1e"
      },
      "execution_count": null,
      "outputs": [
        {
          "output_type": "stream",
          "name": "stdout",
          "text": [
            "7\n"
          ]
        }
      ]
    },
    {
      "cell_type": "code",
      "source": [
        "def sum_multiple_numbers(a, b, c):\n",
        "    return a + b + c\n",
        "\n",
        "result = sum_multiple_numbers(1, 2, 3)\n",
        "print(result)  "
      ],
      "metadata": {
        "colab": {
          "base_uri": "https://localhost:8080/"
        },
        "id": "8S9F9BRGNuij",
        "outputId": "d47c32fc-4bd4-42ec-c001-0013c0a8dd37"
      },
      "execution_count": null,
      "outputs": [
        {
          "output_type": "stream",
          "name": "stdout",
          "text": [
            "6\n"
          ]
        }
      ]
    },
    {
      "cell_type": "code",
      "source": [
        "def sum_arbitrary_numbers(*nums):\n",
        "    return sum(nums)\n",
        "\n",
        "result = sum_arbitrary_numbers(1, 2, 3, 4, 5)\n",
        "print(result) "
      ],
      "metadata": {
        "colab": {
          "base_uri": "https://localhost:8080/"
        },
        "id": "qCIgbF96OPBe",
        "outputId": "d0bc539b-7c0a-4b52-a670-65fd0e08ec17"
      },
      "execution_count": null,
      "outputs": [
        {
          "output_type": "stream",
          "name": "stdout",
          "text": [
            "15\n"
          ]
        }
      ]
    },
    {
      "cell_type": "markdown",
      "source": [
        "## L) Crea una función que tome una lista de cadenas como entrada y devuelva una nueva lista que contenga solo las cadenas que son más largas que una longitud dada."
      ],
      "metadata": {
        "id": "5wDzrLkYN_eJ"
      }
    },
    {
      "cell_type": "code",
      "source": [
        "def filter_long_strings(string_list, length):\n",
        "    return [s for s in string_list if len(s) > length]\n",
        "\n",
        "\n",
        "words = ['apple', 'banana', 'orange', 'kiwi', 'pear']\n",
        "filtered_words = filter_long_strings(words, 5)\n",
        "print(filtered_words)"
      ],
      "metadata": {
        "colab": {
          "base_uri": "https://localhost:8080/"
        },
        "id": "PI4xpBjaOBck",
        "outputId": "12abc32a-86c5-4d72-a98f-a26f8ed28060"
      },
      "execution_count": null,
      "outputs": [
        {
          "output_type": "stream",
          "name": "stdout",
          "text": [
            "['banana', 'orange']\n"
          ]
        }
      ]
    },
    {
      "cell_type": "markdown",
      "source": [
        "\n",
        "## m) Escribe una función que tome una cadena como entrada y devuelva True si la cadena es un palíndromo, False en caso contrario."
      ],
      "metadata": {
        "id": "swe2eUDqOx5l"
      }
    },
    {
      "cell_type": "code",
      "source": [
        "def is_palindrome(string):\n",
        "    reverse_string = string[::-1]\n",
        "    return string == reverse_string\n",
        "\n",
        "\n",
        "print(is_palindrome('reconocer')) # True\n",
        "print(is_palindrome('hola')) # False"
      ],
      "metadata": {
        "colab": {
          "base_uri": "https://localhost:8080/"
        },
        "id": "-1Zr-5lTOpJJ",
        "outputId": "b0e078b3-f867-4730-bde0-17edf31ef42e"
      },
      "execution_count": null,
      "outputs": [
        {
          "output_type": "stream",
          "name": "stdout",
          "text": [
            "True\n",
            "False\n"
          ]
        }
      ]
    },
    {
      "cell_type": "markdown",
      "source": [
        "## n) Crea una función que tome una lista de números como entrada y devuelva el promedio de todos los números en la lista."
      ],
      "metadata": {
        "id": "LG8nsD8HPGrJ"
      }
    },
    {
      "cell_type": "code",
      "source": [
        "def average(numbers):\n",
        "    return sum(numbers) / len(numbers)\n",
        "\n",
        "\n",
        "nums = [2, 4, 6, 8, 10]\n",
        "avg = average(nums)\n",
        "print(avg)"
      ],
      "metadata": {
        "colab": {
          "base_uri": "https://localhost:8080/"
        },
        "id": "eJomtIcDO-Fe",
        "outputId": "14a1545d-6fc7-47bb-996d-c1a55c50ba16"
      },
      "execution_count": null,
      "outputs": [
        {
          "output_type": "stream",
          "name": "stdout",
          "text": [
            "6.0\n"
          ]
        }
      ]
    },
    {
      "cell_type": "markdown",
      "source": [
        "## o) Escribe una función que tome un diccionario como entrada y devuelva una lista de todas las claves en el diccionario."
      ],
      "metadata": {
        "id": "YTyo3FS3PR2l"
      }
    },
    {
      "cell_type": "code",
      "source": [
        "def get_keys(d):\n",
        "    return list(d.keys())\n",
        "\n",
        "\n",
        "fruit_colors = {\"apple\": \"red\", \"banana\": \"yellow\", \"orange\": \"orange\"}\n",
        "keys = get_keys(fruit_colors)\n",
        "print(keys)"
      ],
      "metadata": {
        "colab": {
          "base_uri": "https://localhost:8080/"
        },
        "id": "c2AbuCEvPNcY",
        "outputId": "2bb34bf3-95f9-46da-f7ae-021586323fb9"
      },
      "execution_count": null,
      "outputs": [
        {
          "output_type": "stream",
          "name": "stdout",
          "text": [
            "['apple', 'banana', 'orange']\n"
          ]
        }
      ]
    },
    {
      "cell_type": "markdown",
      "source": [
        "\n",
        "##p) Escribe un programa que tome una lista de números como entrada y devuelva el valor máximo en la lista"
      ],
      "metadata": {
        "id": "o0RyLyB_P4rL"
      }
    },
    {
      "cell_type": "code",
      "source": [
        "\n",
        "def get_max(numbers):\n",
        "    return max(numbers)\n",
        "\n",
        "nums = [5, 10, 3, 8, 15]\n",
        "max_num = get_max(nums)\n",
        "print(max_num)"
      ],
      "metadata": {
        "colab": {
          "base_uri": "https://localhost:8080/"
        },
        "id": "oB8d8utfPsuO",
        "outputId": "7929c8f4-1da9-41cc-a934-946257bf6e92"
      },
      "execution_count": null,
      "outputs": [
        {
          "output_type": "stream",
          "name": "stdout",
          "text": [
            "15\n"
          ]
        }
      ]
    },
    {
      "cell_type": "markdown",
      "source": [
        "## q) Crea un programa que tome una cadena como entrada y devuelva una nueva cadena que contenga solo las vocales en la cadena original."
      ],
      "metadata": {
        "id": "eC6y1IZHQNLK"
      }
    },
    {
      "cell_type": "code",
      "source": [
        "def get_vowels(input_str):\n",
        "    vowels = \"aeiouAEIOU\"\n",
        "    output_str = \"\"\n",
        "    for char in input_str:\n",
        "        if char in vowels:\n",
        "            output_str += char\n",
        "    return output_str\n",
        "\n",
        "\n",
        "input_str = \"Ejemplo de prueba con vocales\"\n",
        "result_str = get_vowels(input_str)\n",
        "print(result_str)"
      ],
      "metadata": {
        "colab": {
          "base_uri": "https://localhost:8080/"
        },
        "id": "bzlT_qAZQD-G",
        "outputId": "12e64d69-415a-40f0-e621-60c5fdd6a4c6"
      },
      "execution_count": null,
      "outputs": [
        {
          "output_type": "stream",
          "name": "stdout",
          "text": [
            "Eeoeueaooae\n"
          ]
        }
      ]
    },
    {
      "cell_type": "markdown",
      "source": [
        "## r) Escribe un programa que tome una lista de números como entrada y devuelva una nueva lista que contenga los valores al cuadrado de cada número en la lista original."
      ],
      "metadata": {
        "id": "DieCY5AlQdf3"
      }
    },
    {
      "cell_type": "code",
      "source": [
        "def get_squared_list(numbers):\n",
        "    squared_list = []\n",
        "    for number in numbers:\n",
        "        squared_list.append(number ** 2)\n",
        "    return squared_list\n",
        "\n",
        "numbers = [1, 2, 3, 4, 5]\n",
        "squared_numbers = get_squared_list(numbers)\n",
        "print(squared_numbers)"
      ],
      "metadata": {
        "colab": {
          "base_uri": "https://localhost:8080/"
        },
        "id": "xRGpCFfGQVf5",
        "outputId": "2842ece6-9ca6-4322-a86d-fb4df225d684"
      },
      "execution_count": null,
      "outputs": [
        {
          "output_type": "stream",
          "name": "stdout",
          "text": [
            "[1, 4, 9, 16, 25]\n"
          ]
        }
      ]
    },
    {
      "cell_type": "markdown",
      "source": [
        "## s) Crea un programa que tome una cadena como entrada y devuelva una nueva cadena con los caracteres en orden inverso."
      ],
      "metadata": {
        "id": "ip33Ya4JQv9B"
      }
    },
    {
      "cell_type": "code",
      "source": [
        "def reverse_string(input_str):\n",
        "    return input_str[::-1]\n",
        "\n",
        "\n",
        "input_str = \"Hola, todos\"\n",
        "output_str = reverse_string(input_str)\n",
        "print(output_str)"
      ],
      "metadata": {
        "colab": {
          "base_uri": "https://localhost:8080/"
        },
        "id": "lXklFF35QxHS",
        "outputId": "b8ee0e35-a2d1-44aa-a819-a3a72d262ea7"
      },
      "execution_count": null,
      "outputs": [
        {
          "output_type": "stream",
          "name": "stdout",
          "text": [
            "sodot ,aloH\n"
          ]
        }
      ]
    },
    {
      "cell_type": "markdown",
      "source": [
        "## t) Escribe un programa que tome una lista de cadenas como entrada y devuelva una nueva lista que contenga la longitud de cada cadena en la lista original."
      ],
      "metadata": {
        "id": "23yXn-9hRFqr"
      }
    },
    {
      "cell_type": "code",
      "source": [
        "def get_lengths(input_list):\n",
        "    lengths = []\n",
        "    for string in input_list:\n",
        "        lengths.append(len(string))\n",
        "    return lengths\n",
        "\n",
        "input_list = [\"perro\", \"gato\", \"elefante\"]\n",
        "output_list = get_lengths(input_list)\n",
        "print(output_list)"
      ],
      "metadata": {
        "colab": {
          "base_uri": "https://localhost:8080/"
        },
        "id": "oMa-43USQ5L6",
        "outputId": "302a4922-d0ed-4b3f-e865-b31595301078"
      },
      "execution_count": null,
      "outputs": [
        {
          "output_type": "stream",
          "name": "stdout",
          "text": [
            "[5, 4, 8]\n"
          ]
        }
      ]
    }
  ]
}